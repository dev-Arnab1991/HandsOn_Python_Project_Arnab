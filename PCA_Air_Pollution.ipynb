{
 "cells": [
  {
   "cell_type": "code",
   "execution_count": 1,
   "metadata": {},
   "outputs": [],
   "source": [
    "import numpy as np\n",
    "import pandas as pd\n",
    "import seaborn as sns\n",
    "import matplotlib.pyplot as plt\n",
    "%matplotlib inline"
   ]
  },
  {
   "cell_type": "code",
   "execution_count": 2,
   "metadata": {},
   "outputs": [],
   "source": [
    "df=pd.read_excel(\"Delhi_Pollution_data.xlsx\")"
   ]
  },
  {
   "cell_type": "code",
   "execution_count": 3,
   "metadata": {},
   "outputs": [
    {
     "data": {
      "text/html": [
       "<div>\n",
       "<style scoped>\n",
       "    .dataframe tbody tr th:only-of-type {\n",
       "        vertical-align: middle;\n",
       "    }\n",
       "\n",
       "    .dataframe tbody tr th {\n",
       "        vertical-align: top;\n",
       "    }\n",
       "\n",
       "    .dataframe thead th {\n",
       "        text-align: right;\n",
       "    }\n",
       "</style>\n",
       "<table border=\"1\" class=\"dataframe\">\n",
       "  <thead>\n",
       "    <tr style=\"text-align: right;\">\n",
       "      <th></th>\n",
       "      <th>City</th>\n",
       "      <th>Date</th>\n",
       "      <th>PM2.5</th>\n",
       "      <th>PM10</th>\n",
       "      <th>NO</th>\n",
       "      <th>NO2</th>\n",
       "      <th>NOx</th>\n",
       "      <th>NH3</th>\n",
       "      <th>CO</th>\n",
       "      <th>SO2</th>\n",
       "      <th>O3</th>\n",
       "      <th>Benzene</th>\n",
       "      <th>Toluene</th>\n",
       "      <th>Xylene</th>\n",
       "      <th>AQI</th>\n",
       "      <th>AQI_Bucket</th>\n",
       "    </tr>\n",
       "  </thead>\n",
       "  <tbody>\n",
       "    <tr>\n",
       "      <th>0</th>\n",
       "      <td>Delhi</td>\n",
       "      <td>2020-07-01</td>\n",
       "      <td>54.01</td>\n",
       "      <td>128.66</td>\n",
       "      <td>6.33</td>\n",
       "      <td>21.05</td>\n",
       "      <td>16.81</td>\n",
       "      <td>29.06</td>\n",
       "      <td>0.97</td>\n",
       "      <td>11.15</td>\n",
       "      <td>29.73</td>\n",
       "      <td>2.03</td>\n",
       "      <td>23.57</td>\n",
       "      <td>0.65</td>\n",
       "      <td>101</td>\n",
       "      <td>Moderate</td>\n",
       "    </tr>\n",
       "    <tr>\n",
       "      <th>1</th>\n",
       "      <td>Delhi</td>\n",
       "      <td>2020-06-30</td>\n",
       "      <td>39.80</td>\n",
       "      <td>91.98</td>\n",
       "      <td>5.99</td>\n",
       "      <td>17.96</td>\n",
       "      <td>15.44</td>\n",
       "      <td>28.48</td>\n",
       "      <td>0.84</td>\n",
       "      <td>10.51</td>\n",
       "      <td>37.29</td>\n",
       "      <td>1.57</td>\n",
       "      <td>16.37</td>\n",
       "      <td>0.49</td>\n",
       "      <td>114</td>\n",
       "      <td>Moderate</td>\n",
       "    </tr>\n",
       "    <tr>\n",
       "      <th>2</th>\n",
       "      <td>Delhi</td>\n",
       "      <td>2020-06-29</td>\n",
       "      <td>44.86</td>\n",
       "      <td>184.12</td>\n",
       "      <td>10.50</td>\n",
       "      <td>21.57</td>\n",
       "      <td>21.94</td>\n",
       "      <td>27.97</td>\n",
       "      <td>0.88</td>\n",
       "      <td>11.58</td>\n",
       "      <td>26.61</td>\n",
       "      <td>2.13</td>\n",
       "      <td>23.80</td>\n",
       "      <td>1.13</td>\n",
       "      <td>233</td>\n",
       "      <td>Poor</td>\n",
       "    </tr>\n",
       "    <tr>\n",
       "      <th>3</th>\n",
       "      <td>Delhi</td>\n",
       "      <td>2020-06-28</td>\n",
       "      <td>59.52</td>\n",
       "      <td>308.65</td>\n",
       "      <td>12.67</td>\n",
       "      <td>21.60</td>\n",
       "      <td>23.86</td>\n",
       "      <td>29.27</td>\n",
       "      <td>0.94</td>\n",
       "      <td>10.70</td>\n",
       "      <td>18.05</td>\n",
       "      <td>1.71</td>\n",
       "      <td>25.13</td>\n",
       "      <td>1.74</td>\n",
       "      <td>196</td>\n",
       "      <td>Moderate</td>\n",
       "    </tr>\n",
       "    <tr>\n",
       "      <th>4</th>\n",
       "      <td>Delhi</td>\n",
       "      <td>2020-06-27</td>\n",
       "      <td>39.80</td>\n",
       "      <td>155.94</td>\n",
       "      <td>10.88</td>\n",
       "      <td>21.46</td>\n",
       "      <td>22.47</td>\n",
       "      <td>31.43</td>\n",
       "      <td>0.87</td>\n",
       "      <td>10.38</td>\n",
       "      <td>18.88</td>\n",
       "      <td>1.69</td>\n",
       "      <td>19.99</td>\n",
       "      <td>0.43</td>\n",
       "      <td>112</td>\n",
       "      <td>Moderate</td>\n",
       "    </tr>\n",
       "  </tbody>\n",
       "</table>\n",
       "</div>"
      ],
      "text/plain": [
       "    City       Date  PM2.5    PM10     NO    NO2    NOx    NH3    CO    SO2  \\\n",
       "0  Delhi 2020-07-01  54.01  128.66   6.33  21.05  16.81  29.06  0.97  11.15   \n",
       "1  Delhi 2020-06-30  39.80   91.98   5.99  17.96  15.44  28.48  0.84  10.51   \n",
       "2  Delhi 2020-06-29  44.86  184.12  10.50  21.57  21.94  27.97  0.88  11.58   \n",
       "3  Delhi 2020-06-28  59.52  308.65  12.67  21.60  23.86  29.27  0.94  10.70   \n",
       "4  Delhi 2020-06-27  39.80  155.94  10.88  21.46  22.47  31.43  0.87  10.38   \n",
       "\n",
       "      O3  Benzene  Toluene  Xylene  AQI AQI_Bucket  \n",
       "0  29.73     2.03    23.57    0.65  101   Moderate  \n",
       "1  37.29     1.57    16.37    0.49  114   Moderate  \n",
       "2  26.61     2.13    23.80    1.13  233       Poor  \n",
       "3  18.05     1.71    25.13    1.74  196   Moderate  \n",
       "4  18.88     1.69    19.99    0.43  112   Moderate  "
      ]
     },
     "execution_count": 3,
     "metadata": {},
     "output_type": "execute_result"
    }
   ],
   "source": [
    "df.head()"
   ]
  },
  {
   "cell_type": "code",
   "execution_count": 4,
   "metadata": {},
   "outputs": [
    {
     "name": "stdout",
     "output_type": "stream",
     "text": [
      "<class 'pandas.core.frame.DataFrame'>\n",
      "RangeIndex: 2009 entries, 0 to 2008\n",
      "Data columns (total 16 columns):\n",
      "City          2009 non-null object\n",
      "Date          2009 non-null datetime64[ns]\n",
      "PM2.5         2009 non-null float64\n",
      "PM10          2009 non-null float64\n",
      "NO            2009 non-null float64\n",
      "NO2           2009 non-null float64\n",
      "NOx           2009 non-null float64\n",
      "NH3           2009 non-null float64\n",
      "CO            2009 non-null float64\n",
      "SO2           2009 non-null float64\n",
      "O3            2009 non-null float64\n",
      "Benzene       2009 non-null float64\n",
      "Toluene       2009 non-null float64\n",
      "Xylene        2009 non-null float64\n",
      "AQI           2009 non-null int64\n",
      "AQI_Bucket    2009 non-null object\n",
      "dtypes: datetime64[ns](1), float64(12), int64(1), object(2)\n",
      "memory usage: 251.2+ KB\n"
     ]
    }
   ],
   "source": [
    "df.info()"
   ]
  },
  {
   "cell_type": "code",
   "execution_count": 5,
   "metadata": {},
   "outputs": [
    {
     "data": {
      "text/plain": [
       "0"
      ]
     },
     "execution_count": 5,
     "metadata": {},
     "output_type": "execute_result"
    }
   ],
   "source": [
    "df.duplicated().sum()"
   ]
  },
  {
   "cell_type": "code",
   "execution_count": 6,
   "metadata": {},
   "outputs": [],
   "source": [
    "df_pca = df.drop(['City','Date','AQI','AQI_Bucket'],axis=1)"
   ]
  },
  {
   "cell_type": "code",
   "execution_count": 7,
   "metadata": {},
   "outputs": [
    {
     "data": {
      "text/html": [
       "<div>\n",
       "<style scoped>\n",
       "    .dataframe tbody tr th:only-of-type {\n",
       "        vertical-align: middle;\n",
       "    }\n",
       "\n",
       "    .dataframe tbody tr th {\n",
       "        vertical-align: top;\n",
       "    }\n",
       "\n",
       "    .dataframe thead th {\n",
       "        text-align: right;\n",
       "    }\n",
       "</style>\n",
       "<table border=\"1\" class=\"dataframe\">\n",
       "  <thead>\n",
       "    <tr style=\"text-align: right;\">\n",
       "      <th></th>\n",
       "      <th>PM2.5</th>\n",
       "      <th>PM10</th>\n",
       "      <th>NO</th>\n",
       "      <th>NO2</th>\n",
       "      <th>NOx</th>\n",
       "      <th>NH3</th>\n",
       "      <th>CO</th>\n",
       "      <th>SO2</th>\n",
       "      <th>O3</th>\n",
       "      <th>Benzene</th>\n",
       "      <th>Toluene</th>\n",
       "      <th>Xylene</th>\n",
       "    </tr>\n",
       "  </thead>\n",
       "  <tbody>\n",
       "    <tr>\n",
       "      <th>0</th>\n",
       "      <td>54.01</td>\n",
       "      <td>128.66</td>\n",
       "      <td>6.33</td>\n",
       "      <td>21.05</td>\n",
       "      <td>16.81</td>\n",
       "      <td>29.06</td>\n",
       "      <td>0.97</td>\n",
       "      <td>11.15</td>\n",
       "      <td>29.73</td>\n",
       "      <td>2.03</td>\n",
       "      <td>23.57</td>\n",
       "      <td>0.65</td>\n",
       "    </tr>\n",
       "    <tr>\n",
       "      <th>1</th>\n",
       "      <td>39.80</td>\n",
       "      <td>91.98</td>\n",
       "      <td>5.99</td>\n",
       "      <td>17.96</td>\n",
       "      <td>15.44</td>\n",
       "      <td>28.48</td>\n",
       "      <td>0.84</td>\n",
       "      <td>10.51</td>\n",
       "      <td>37.29</td>\n",
       "      <td>1.57</td>\n",
       "      <td>16.37</td>\n",
       "      <td>0.49</td>\n",
       "    </tr>\n",
       "    <tr>\n",
       "      <th>2</th>\n",
       "      <td>44.86</td>\n",
       "      <td>184.12</td>\n",
       "      <td>10.50</td>\n",
       "      <td>21.57</td>\n",
       "      <td>21.94</td>\n",
       "      <td>27.97</td>\n",
       "      <td>0.88</td>\n",
       "      <td>11.58</td>\n",
       "      <td>26.61</td>\n",
       "      <td>2.13</td>\n",
       "      <td>23.80</td>\n",
       "      <td>1.13</td>\n",
       "    </tr>\n",
       "    <tr>\n",
       "      <th>3</th>\n",
       "      <td>59.52</td>\n",
       "      <td>308.65</td>\n",
       "      <td>12.67</td>\n",
       "      <td>21.60</td>\n",
       "      <td>23.86</td>\n",
       "      <td>29.27</td>\n",
       "      <td>0.94</td>\n",
       "      <td>10.70</td>\n",
       "      <td>18.05</td>\n",
       "      <td>1.71</td>\n",
       "      <td>25.13</td>\n",
       "      <td>1.74</td>\n",
       "    </tr>\n",
       "    <tr>\n",
       "      <th>4</th>\n",
       "      <td>39.80</td>\n",
       "      <td>155.94</td>\n",
       "      <td>10.88</td>\n",
       "      <td>21.46</td>\n",
       "      <td>22.47</td>\n",
       "      <td>31.43</td>\n",
       "      <td>0.87</td>\n",
       "      <td>10.38</td>\n",
       "      <td>18.88</td>\n",
       "      <td>1.69</td>\n",
       "      <td>19.99</td>\n",
       "      <td>0.43</td>\n",
       "    </tr>\n",
       "  </tbody>\n",
       "</table>\n",
       "</div>"
      ],
      "text/plain": [
       "   PM2.5    PM10     NO    NO2    NOx    NH3    CO    SO2     O3  Benzene  \\\n",
       "0  54.01  128.66   6.33  21.05  16.81  29.06  0.97  11.15  29.73     2.03   \n",
       "1  39.80   91.98   5.99  17.96  15.44  28.48  0.84  10.51  37.29     1.57   \n",
       "2  44.86  184.12  10.50  21.57  21.94  27.97  0.88  11.58  26.61     2.13   \n",
       "3  59.52  308.65  12.67  21.60  23.86  29.27  0.94  10.70  18.05     1.71   \n",
       "4  39.80  155.94  10.88  21.46  22.47  31.43  0.87  10.38  18.88     1.69   \n",
       "\n",
       "   Toluene  Xylene  \n",
       "0    23.57    0.65  \n",
       "1    16.37    0.49  \n",
       "2    23.80    1.13  \n",
       "3    25.13    1.74  \n",
       "4    19.99    0.43  "
      ]
     },
     "execution_count": 7,
     "metadata": {},
     "output_type": "execute_result"
    }
   ],
   "source": [
    "df_pca.head()"
   ]
  },
  {
   "cell_type": "code",
   "execution_count": 8,
   "metadata": {},
   "outputs": [
    {
     "data": {
      "text/plain": [
       "12"
      ]
     },
     "execution_count": 8,
     "metadata": {},
     "output_type": "execute_result"
    }
   ],
   "source": [
    "len(df_pca.columns)"
   ]
  },
  {
   "cell_type": "code",
   "execution_count": 9,
   "metadata": {},
   "outputs": [
    {
     "data": {
      "image/png": "[encoded data removed]",
      "text/plain": [
       "<Figure size 864x576 with 12 Axes>"
      ]
     },
     "metadata": {
      "needs_background": "light"
     },
     "output_type": "display_data"
    }
   ],
   "source": [
    "plt.figure(figsize=(12,8))\n",
    "features_list = df_pca.columns\n",
    "for i in range(len(features_list)):\n",
    "    plt.subplot(2,6,i+1)\n",
    "    sns.boxplot(y=df_pca[features_list[i]],data=df_pca)\n",
    "    plt.tight_layout()"
   ]
  },
  {
   "cell_type": "code",
   "execution_count": 10,
   "metadata": {},
   "outputs": [],
   "source": [
    "def detect_outlier(col):\n",
    "    Q1,Q3 = col.quantile([0.25,0.75])\n",
    "    IQR = Q3-Q1\n",
    "    lower_range = Q1-1.5*IQR\n",
    "    upper_range = Q3+1.5*IQR\n",
    "    return lower_range, upper_range"
   ]
  },
  {
   "cell_type": "code",
   "execution_count": 11,
   "metadata": {},
   "outputs": [
    {
     "name": "stdout",
     "output_type": "stream",
     "text": [
      "Lower Range :  -86.73500000000004  & upper Range :  296.82500000000005\n",
      "Lower Range :  -114.04499999999999  & upper Range :  560.235\n",
      "Lower Range :  -36.330000000000005  & upper Range :  102.95\n",
      "Lower Range :  -10.605000000000004  & upper Range :  108.075\n",
      "Lower Range :  -35.165  & upper Range :  141.675\n",
      "Lower Range :  5.029999999999998  & upper Range :  74.87\n",
      "Lower Range :  -0.5300000000000001  & upper Range :  3.3100000000000005\n",
      "Lower Range :  -2.889999999999997  & upper Range :  32.709999999999994\n",
      "Lower Range :  -4.6200000000000045  & upper Range :  98.58000000000001\n",
      "Lower Range :  -2.3449999999999998  & upper Range :  8.895\n",
      "Lower Range :  -18.174999999999997  & upper Range :  48.02499999999999\n",
      "Lower Range :  -0.34  & upper Range :  1.6600000000000001\n"
     ]
    }
   ],
   "source": [
    "for i in features_list:\n",
    "    LL,UL = detect_outlier(df_pca[i])\n",
    "    df_pca[i] = np.where(df_pca[i]>UL,UL,df_pca[i])\n",
    "    df_pca[i] = np.where(df_pca[i]<LL,LL,df_pca[i])\n",
    "    print(\"Lower Range : \",LL,\" & upper Range : \",UL)"
   ]
  },
  {
   "cell_type": "code",
   "execution_count": 12,
   "metadata": {},
   "outputs": [
    {
     "data": {
      "image/png": "[encoded data removed]",
      "text/plain": [
       "<Figure size 864x576 with 12 Axes>"
      ]
     },
     "metadata": {
      "needs_background": "light"
     },
     "output_type": "display_data"
    }
   ],
   "source": [
    "plt.figure(figsize=(12,8))\n",
    "features_list = df_pca.columns\n",
    "for i in range(len(features_list)):\n",
    "    plt.subplot(2,6,i+1)\n",
    "    sns.boxplot(y=df_pca[features_list[i]],data=df_pca)\n",
    "    plt.tight_layout()"
   ]
  },
  {
   "cell_type": "code",
   "execution_count": 13,
   "metadata": {},
   "outputs": [],
   "source": [
    "from scipy.stats import zscore\n",
    "df_pca_scaled = df_pca.apply(zscore)"
   ]
  },
  {
   "cell_type": "code",
   "execution_count": 14,
   "metadata": {},
   "outputs": [
    {
     "data": {
      "text/html": [
       "<div>\n",
       "<style scoped>\n",
       "    .dataframe tbody tr th:only-of-type {\n",
       "        vertical-align: middle;\n",
       "    }\n",
       "\n",
       "    .dataframe tbody tr th {\n",
       "        vertical-align: top;\n",
       "    }\n",
       "\n",
       "    .dataframe thead th {\n",
       "        text-align: right;\n",
       "    }\n",
       "</style>\n",
       "<table border=\"1\" class=\"dataframe\">\n",
       "  <thead>\n",
       "    <tr style=\"text-align: right;\">\n",
       "      <th></th>\n",
       "      <th>PM2.5</th>\n",
       "      <th>PM10</th>\n",
       "      <th>NO</th>\n",
       "      <th>NO2</th>\n",
       "      <th>NOx</th>\n",
       "      <th>NH3</th>\n",
       "      <th>CO</th>\n",
       "      <th>SO2</th>\n",
       "      <th>O3</th>\n",
       "      <th>Benzene</th>\n",
       "      <th>Toluene</th>\n",
       "      <th>Xylene</th>\n",
       "    </tr>\n",
       "  </thead>\n",
       "  <tbody>\n",
       "    <tr>\n",
       "      <th>0</th>\n",
       "      <td>-0.823814</td>\n",
       "      <td>-0.881449</td>\n",
       "      <td>-1.103682</td>\n",
       "      <td>-1.364231</td>\n",
       "      <td>-1.171197</td>\n",
       "      <td>-0.876637</td>\n",
       "      <td>-0.569198</td>\n",
       "      <td>-0.666182</td>\n",
       "      <td>-0.949903</td>\n",
       "      <td>-0.650850</td>\n",
       "      <td>0.571394</td>\n",
       "      <td>-0.164550</td>\n",
       "    </tr>\n",
       "    <tr>\n",
       "      <th>1</th>\n",
       "      <td>-1.017968</td>\n",
       "      <td>-1.196500</td>\n",
       "      <td>-1.115885</td>\n",
       "      <td>-1.507767</td>\n",
       "      <td>-1.210540</td>\n",
       "      <td>-0.919203</td>\n",
       "      <td>-0.721007</td>\n",
       "      <td>-0.764968</td>\n",
       "      <td>-0.587956</td>\n",
       "      <td>-0.857296</td>\n",
       "      <td>0.000887</td>\n",
       "      <td>-0.470643</td>\n",
       "    </tr>\n",
       "    <tr>\n",
       "      <th>2</th>\n",
       "      <td>-0.948832</td>\n",
       "      <td>-0.405093</td>\n",
       "      <td>-0.954015</td>\n",
       "      <td>-1.340076</td>\n",
       "      <td>-1.023879</td>\n",
       "      <td>-0.956633</td>\n",
       "      <td>-0.674297</td>\n",
       "      <td>-0.599811</td>\n",
       "      <td>-1.099278</td>\n",
       "      <td>-0.605970</td>\n",
       "      <td>0.589619</td>\n",
       "      <td>0.753730</td>\n",
       "    </tr>\n",
       "    <tr>\n",
       "      <th>3</th>\n",
       "      <td>-0.748529</td>\n",
       "      <td>0.664518</td>\n",
       "      <td>-0.876131</td>\n",
       "      <td>-1.338682</td>\n",
       "      <td>-0.968742</td>\n",
       "      <td>-0.861224</td>\n",
       "      <td>-0.604231</td>\n",
       "      <td>-0.735641</td>\n",
       "      <td>-1.509101</td>\n",
       "      <td>-0.794465</td>\n",
       "      <td>0.695004</td>\n",
       "      <td>1.767664</td>\n",
       "    </tr>\n",
       "    <tr>\n",
       "      <th>4</th>\n",
       "      <td>-1.017968</td>\n",
       "      <td>-0.647136</td>\n",
       "      <td>-0.940376</td>\n",
       "      <td>-1.345186</td>\n",
       "      <td>-1.008659</td>\n",
       "      <td>-0.702700</td>\n",
       "      <td>-0.685974</td>\n",
       "      <td>-0.785033</td>\n",
       "      <td>-1.469363</td>\n",
       "      <td>-0.803441</td>\n",
       "      <td>0.287725</td>\n",
       "      <td>-0.585428</td>\n",
       "    </tr>\n",
       "  </tbody>\n",
       "</table>\n",
       "</div>"
      ],
      "text/plain": [
       "      PM2.5      PM10        NO       NO2       NOx       NH3        CO  \\\n",
       "0 -0.823814 -0.881449 -1.103682 -1.364231 -1.171197 -0.876637 -0.569198   \n",
       "1 -1.017968 -1.196500 -1.115885 -1.507767 -1.210540 -0.919203 -0.721007   \n",
       "2 -0.948832 -0.405093 -0.954015 -1.340076 -1.023879 -0.956633 -0.674297   \n",
       "3 -0.748529  0.664518 -0.876131 -1.338682 -0.968742 -0.861224 -0.604231   \n",
       "4 -1.017968 -0.647136 -0.940376 -1.345186 -1.008659 -0.702700 -0.685974   \n",
       "\n",
       "        SO2        O3   Benzene   Toluene    Xylene  \n",
       "0 -0.666182 -0.949903 -0.650850  0.571394 -0.164550  \n",
       "1 -0.764968 -0.587956 -0.857296  0.000887 -0.470643  \n",
       "2 -0.599811 -1.099278 -0.605970  0.589619  0.753730  \n",
       "3 -0.735641 -1.509101 -0.794465  0.695004  1.767664  \n",
       "4 -0.785033 -1.469363 -0.803441  0.287725 -0.585428  "
      ]
     },
     "execution_count": 14,
     "metadata": {},
     "output_type": "execute_result"
    }
   ],
   "source": [
    "df_pca_scaled.head()"
   ]
  },
  {
   "cell_type": "code",
   "execution_count": 15,
   "metadata": {},
   "outputs": [
    {
     "data": {
      "text/plain": [
       "<matplotlib.axes._subplots.AxesSubplot at 0xbbdf780>"
      ]
     },
     "execution_count": 15,
     "metadata": {},
     "output_type": "execute_result"
    },
    {
     "data": {
      "image/png": "[encoded data removed]",
      "text/plain": [
       "<Figure size 576x432 with 2 Axes>"
      ]
     },
     "metadata": {
      "needs_background": "light"
     },
     "output_type": "display_data"
    }
   ],
   "source": [
    "plt.figure(figsize=(8,6))\n",
    "sns.heatmap(df_pca_scaled.corr(),annot=True)"
   ]
  },
  {
   "cell_type": "code",
   "execution_count": 16,
   "metadata": {},
   "outputs": [
    {
     "data": {
      "text/plain": [
       "0.0"
      ]
     },
     "execution_count": 16,
     "metadata": {},
     "output_type": "execute_result"
    }
   ],
   "source": [
    "from factor_analyzer.factor_analyzer import calculate_bartlett_sphericity\n",
    "chi_square_value, p_value = calculate_bartlett_sphericity(df_pca_scaled)\n",
    "p_value"
   ]
  },
  {
   "cell_type": "code",
   "execution_count": 17,
   "metadata": {},
   "outputs": [
    {
     "data": {
      "text/plain": [
       "0.8376519436323342"
      ]
     },
     "execution_count": 17,
     "metadata": {},
     "output_type": "execute_result"
    }
   ],
   "source": [
    "from factor_analyzer.factor_analyzer import calculate_kmo\n",
    "kmo_all, kmo_model = calculate_kmo(df_pca_scaled)\n",
    "kmo_model"
   ]
  },
  {
   "cell_type": "code",
   "execution_count": 18,
   "metadata": {},
   "outputs": [],
   "source": [
    "from sklearn.decomposition import PCA\n",
    "pca = PCA(n_components= 12, random_state=123)\n",
    "pca_transformed = pca.fit_transform(df_pca_scaled)"
   ]
  },
  {
   "cell_type": "code",
   "execution_count": 19,
   "metadata": {},
   "outputs": [
    {
     "data": {
      "text/plain": [
       "array([[-2.66533352, -0.91617956, -0.79021233, ..., -0.12716269,\n",
       "         0.04936147,  0.02218708],\n",
       "       [-3.15643913, -0.41145617, -0.38495342, ..., -0.00689983,\n",
       "         0.1975952 ,  0.10767996],\n",
       "       [-2.35484127, -1.34779854, -0.88137821, ..., -0.32725765,\n",
       "         0.0282525 , -0.35546333],\n",
       "       ...,\n",
       "       [-0.44278896, -3.04827969,  0.85077063, ...,  0.09847784,\n",
       "         0.18416251, -0.2850144 ],\n",
       "       [ 1.77853321, -3.40818408,  0.56303903, ...,  0.98704134,\n",
       "         0.14538536,  0.02488423],\n",
       "       [ 3.87623969, -2.8650807 ,  0.44676308, ..., -0.08853955,\n",
       "         0.06223242, -0.32596818]])"
      ]
     },
     "execution_count": 19,
     "metadata": {},
     "output_type": "execute_result"
    }
   ],
   "source": [
    "pca_transformed"
   ]
  },
  {
   "cell_type": "code",
   "execution_count": 20,
   "metadata": {},
   "outputs": [
    {
     "data": {
      "text/plain": [
       "array([[ 0.36757983,  0.35874864,  0.3586897 ,  0.34856375,  0.31661476,\n",
       "         0.27264851,  0.22407402,  0.2354441 ,  0.14900296,  0.35967138,\n",
       "         0.20036925,  0.11870582],\n",
       "       [ 0.01788055,  0.12180783,  0.07920562,  0.25502423, -0.07185109,\n",
       "         0.06976372, -0.37463646,  0.38778796,  0.33653904, -0.20718676,\n",
       "        -0.41848144, -0.53052722],\n",
       "       [-0.10244197, -0.1082965 , -0.23877719, -0.02680145,  0.329494  ,\n",
       "        -0.04259609,  0.46126311, -0.1934286 ,  0.65938621, -0.06805854,\n",
       "        -0.32861601,  0.10988637],\n",
       "       [ 0.2517615 ,  0.14172243, -0.04998115, -0.05800976, -0.19614686,\n",
       "         0.64557842,  0.21025355, -0.42214395, -0.25004424, -0.10221822,\n",
       "        -0.35987447, -0.17472887],\n",
       "       [-0.02951417, -0.10587218, -0.06664532, -0.15232101,  0.3156141 ,\n",
       "         0.03492092,  0.00652305, -0.27840717,  0.07088788,  0.1881715 ,\n",
       "         0.44708658, -0.73591565],\n",
       "       [-0.33778676, -0.35252369,  0.38787525,  0.34686121,  0.49700404,\n",
       "         0.18451077, -0.20320897, -0.22301716, -0.21810356, -0.20738014,\n",
       "        -0.12560924,  0.11147241],\n",
       "       [ 0.06563324,  0.12375596, -0.14457983,  0.02262857, -0.09388006,\n",
       "         0.27700264, -0.60703311, -0.36527962,  0.44866553, -0.02001182,\n",
       "         0.28029185,  0.30205016],\n",
       "       [ 0.27566473,  0.46946395,  0.19819553, -0.05234811,  0.21837965,\n",
       "        -0.5669765 , -0.15271419, -0.43768945, -0.10139654, -0.09041726,\n",
       "        -0.24071278, -0.03385089],\n",
       "       [ 0.08630889, -0.19256102,  0.12658272, -0.57691351,  0.22711834,\n",
       "         0.11542776, -0.29822569,  0.13555367, -0.00258175,  0.53123794,\n",
       "        -0.38061592,  0.08549909],\n",
       "       [-0.12323599, -0.21886613,  0.15580356,  0.42173106, -0.44643724,\n",
       "        -0.19386918,  0.03258363, -0.32222979,  0.10317314,  0.58920379,\n",
       "        -0.16743865, -0.08456931],\n",
       "       [-0.16435551,  0.01597716,  0.73600924, -0.38536644, -0.30252698,\n",
       "         0.03979365,  0.17069172, -0.06325655,  0.29371465, -0.2245804 ,\n",
       "         0.13633232, -0.03131745],\n",
       "       [ 0.73876135, -0.60680943,  0.09205628,  0.05849928, -0.04486307,\n",
       "        -0.12751874, -0.01360063, -0.01047633,  0.07830299, -0.21407386,\n",
       "         0.05971928,  0.00486172]])"
      ]
     },
     "execution_count": 20,
     "metadata": {},
     "output_type": "execute_result"
    }
   ],
   "source": [
    "pca.components_"
   ]
  },
  {
   "cell_type": "code",
   "execution_count": 21,
   "metadata": {},
   "outputs": [
    {
     "data": {
      "text/plain": [
       "array([5.71418983, 1.73516949, 1.14758734, 0.95455182, 0.63944041,\n",
       "       0.46998204, 0.36503474, 0.34686872, 0.1906889 , 0.16883957,\n",
       "       0.15442402, 0.11919921])"
      ]
     },
     "execution_count": 21,
     "metadata": {},
     "output_type": "execute_result"
    }
   ],
   "source": [
    "pca.explained_variance_"
   ]
  },
  {
   "cell_type": "code",
   "execution_count": 22,
   "metadata": {},
   "outputs": [
    {
     "data": {
      "text/plain": [
       "array([0.47594546, 0.14452548, 0.09558468, 0.07950639, 0.05326018,\n",
       "       0.03914568, 0.03040442, 0.02889134, 0.01588283, 0.01406296,\n",
       "       0.01286226, 0.00992832])"
      ]
     },
     "execution_count": 22,
     "metadata": {},
     "output_type": "execute_result"
    }
   ],
   "source": [
    "pca.explained_variance_ratio_"
   ]
  },
  {
   "cell_type": "code",
   "execution_count": 23,
   "metadata": {},
   "outputs": [],
   "source": [
    "df_extracted_loadings = pd.DataFrame(pca.components_.T,\n",
    "                                     columns = ['PC1','PC2','PC3','PC4','PC5','PC6',\n",
    "                                                'PC7','PC8','PC9','PC10','PC11','PC12'], \n",
    "                                     index=df_pca_scaled.columns)"
   ]
  },
  {
   "cell_type": "code",
   "execution_count": 24,
   "metadata": {},
   "outputs": [
    {
     "data": {
      "text/html": [
       "<div>\n",
       "<style scoped>\n",
       "    .dataframe tbody tr th:only-of-type {\n",
       "        vertical-align: middle;\n",
       "    }\n",
       "\n",
       "    .dataframe tbody tr th {\n",
       "        vertical-align: top;\n",
       "    }\n",
       "\n",
       "    .dataframe thead th {\n",
       "        text-align: right;\n",
       "    }\n",
       "</style>\n",
       "<table border=\"1\" class=\"dataframe\">\n",
       "  <thead>\n",
       "    <tr style=\"text-align: right;\">\n",
       "      <th></th>\n",
       "      <th>PC1</th>\n",
       "      <th>PC2</th>\n",
       "      <th>PC3</th>\n",
       "      <th>PC4</th>\n",
       "      <th>PC5</th>\n",
       "      <th>PC6</th>\n",
       "      <th>PC7</th>\n",
       "      <th>PC8</th>\n",
       "      <th>PC9</th>\n",
       "      <th>PC10</th>\n",
       "      <th>PC11</th>\n",
       "      <th>PC12</th>\n",
       "    </tr>\n",
       "  </thead>\n",
       "  <tbody>\n",
       "    <tr>\n",
       "      <th>PM2.5</th>\n",
       "      <td>0.367580</td>\n",
       "      <td>0.017881</td>\n",
       "      <td>-0.102442</td>\n",
       "      <td>0.251761</td>\n",
       "      <td>-0.029514</td>\n",
       "      <td>-0.337787</td>\n",
       "      <td>0.065633</td>\n",
       "      <td>0.275665</td>\n",
       "      <td>0.086309</td>\n",
       "      <td>-0.123236</td>\n",
       "      <td>-0.164356</td>\n",
       "      <td>0.738761</td>\n",
       "    </tr>\n",
       "    <tr>\n",
       "      <th>PM10</th>\n",
       "      <td>0.358749</td>\n",
       "      <td>0.121808</td>\n",
       "      <td>-0.108297</td>\n",
       "      <td>0.141722</td>\n",
       "      <td>-0.105872</td>\n",
       "      <td>-0.352524</td>\n",
       "      <td>0.123756</td>\n",
       "      <td>0.469464</td>\n",
       "      <td>-0.192561</td>\n",
       "      <td>-0.218866</td>\n",
       "      <td>0.015977</td>\n",
       "      <td>-0.606809</td>\n",
       "    </tr>\n",
       "    <tr>\n",
       "      <th>NO</th>\n",
       "      <td>0.358690</td>\n",
       "      <td>0.079206</td>\n",
       "      <td>-0.238777</td>\n",
       "      <td>-0.049981</td>\n",
       "      <td>-0.066645</td>\n",
       "      <td>0.387875</td>\n",
       "      <td>-0.144580</td>\n",
       "      <td>0.198196</td>\n",
       "      <td>0.126583</td>\n",
       "      <td>0.155804</td>\n",
       "      <td>0.736009</td>\n",
       "      <td>0.092056</td>\n",
       "    </tr>\n",
       "    <tr>\n",
       "      <th>NO2</th>\n",
       "      <td>0.348564</td>\n",
       "      <td>0.255024</td>\n",
       "      <td>-0.026801</td>\n",
       "      <td>-0.058010</td>\n",
       "      <td>-0.152321</td>\n",
       "      <td>0.346861</td>\n",
       "      <td>0.022629</td>\n",
       "      <td>-0.052348</td>\n",
       "      <td>-0.576914</td>\n",
       "      <td>0.421731</td>\n",
       "      <td>-0.385366</td>\n",
       "      <td>0.058499</td>\n",
       "    </tr>\n",
       "    <tr>\n",
       "      <th>NOx</th>\n",
       "      <td>0.316615</td>\n",
       "      <td>-0.071851</td>\n",
       "      <td>0.329494</td>\n",
       "      <td>-0.196147</td>\n",
       "      <td>0.315614</td>\n",
       "      <td>0.497004</td>\n",
       "      <td>-0.093880</td>\n",
       "      <td>0.218380</td>\n",
       "      <td>0.227118</td>\n",
       "      <td>-0.446437</td>\n",
       "      <td>-0.302527</td>\n",
       "      <td>-0.044863</td>\n",
       "    </tr>\n",
       "    <tr>\n",
       "      <th>NH3</th>\n",
       "      <td>0.272649</td>\n",
       "      <td>0.069764</td>\n",
       "      <td>-0.042596</td>\n",
       "      <td>0.645578</td>\n",
       "      <td>0.034921</td>\n",
       "      <td>0.184511</td>\n",
       "      <td>0.277003</td>\n",
       "      <td>-0.566976</td>\n",
       "      <td>0.115428</td>\n",
       "      <td>-0.193869</td>\n",
       "      <td>0.039794</td>\n",
       "      <td>-0.127519</td>\n",
       "    </tr>\n",
       "    <tr>\n",
       "      <th>CO</th>\n",
       "      <td>0.224074</td>\n",
       "      <td>-0.374636</td>\n",
       "      <td>0.461263</td>\n",
       "      <td>0.210254</td>\n",
       "      <td>0.006523</td>\n",
       "      <td>-0.203209</td>\n",
       "      <td>-0.607033</td>\n",
       "      <td>-0.152714</td>\n",
       "      <td>-0.298226</td>\n",
       "      <td>0.032584</td>\n",
       "      <td>0.170692</td>\n",
       "      <td>-0.013601</td>\n",
       "    </tr>\n",
       "    <tr>\n",
       "      <th>SO2</th>\n",
       "      <td>0.235444</td>\n",
       "      <td>0.387788</td>\n",
       "      <td>-0.193429</td>\n",
       "      <td>-0.422144</td>\n",
       "      <td>-0.278407</td>\n",
       "      <td>-0.223017</td>\n",
       "      <td>-0.365280</td>\n",
       "      <td>-0.437689</td>\n",
       "      <td>0.135554</td>\n",
       "      <td>-0.322230</td>\n",
       "      <td>-0.063257</td>\n",
       "      <td>-0.010476</td>\n",
       "    </tr>\n",
       "    <tr>\n",
       "      <th>O3</th>\n",
       "      <td>0.149003</td>\n",
       "      <td>0.336539</td>\n",
       "      <td>0.659386</td>\n",
       "      <td>-0.250044</td>\n",
       "      <td>0.070888</td>\n",
       "      <td>-0.218104</td>\n",
       "      <td>0.448666</td>\n",
       "      <td>-0.101397</td>\n",
       "      <td>-0.002582</td>\n",
       "      <td>0.103173</td>\n",
       "      <td>0.293715</td>\n",
       "      <td>0.078303</td>\n",
       "    </tr>\n",
       "    <tr>\n",
       "      <th>Benzene</th>\n",
       "      <td>0.359671</td>\n",
       "      <td>-0.207187</td>\n",
       "      <td>-0.068059</td>\n",
       "      <td>-0.102218</td>\n",
       "      <td>0.188172</td>\n",
       "      <td>-0.207380</td>\n",
       "      <td>-0.020012</td>\n",
       "      <td>-0.090417</td>\n",
       "      <td>0.531238</td>\n",
       "      <td>0.589204</td>\n",
       "      <td>-0.224580</td>\n",
       "      <td>-0.214074</td>\n",
       "    </tr>\n",
       "    <tr>\n",
       "      <th>Toluene</th>\n",
       "      <td>0.200369</td>\n",
       "      <td>-0.418481</td>\n",
       "      <td>-0.328616</td>\n",
       "      <td>-0.359874</td>\n",
       "      <td>0.447087</td>\n",
       "      <td>-0.125609</td>\n",
       "      <td>0.280292</td>\n",
       "      <td>-0.240713</td>\n",
       "      <td>-0.380616</td>\n",
       "      <td>-0.167439</td>\n",
       "      <td>0.136332</td>\n",
       "      <td>0.059719</td>\n",
       "    </tr>\n",
       "    <tr>\n",
       "      <th>Xylene</th>\n",
       "      <td>0.118706</td>\n",
       "      <td>-0.530527</td>\n",
       "      <td>0.109886</td>\n",
       "      <td>-0.174729</td>\n",
       "      <td>-0.735916</td>\n",
       "      <td>0.111472</td>\n",
       "      <td>0.302050</td>\n",
       "      <td>-0.033851</td>\n",
       "      <td>0.085499</td>\n",
       "      <td>-0.084569</td>\n",
       "      <td>-0.031317</td>\n",
       "      <td>0.004862</td>\n",
       "    </tr>\n",
       "  </tbody>\n",
       "</table>\n",
       "</div>"
      ],
      "text/plain": [
       "              PC1       PC2       PC3       PC4       PC5       PC6       PC7  \\\n",
       "PM2.5    0.367580  0.017881 -0.102442  0.251761 -0.029514 -0.337787  0.065633   \n",
       "PM10     0.358749  0.121808 -0.108297  0.141722 -0.105872 -0.352524  0.123756   \n",
       "NO       0.358690  0.079206 -0.238777 -0.049981 -0.066645  0.387875 -0.144580   \n",
       "NO2      0.348564  0.255024 -0.026801 -0.058010 -0.152321  0.346861  0.022629   \n",
       "NOx      0.316615 -0.071851  0.329494 -0.196147  0.315614  0.497004 -0.093880   \n",
       "NH3      0.272649  0.069764 -0.042596  0.645578  0.034921  0.184511  0.277003   \n",
       "CO       0.224074 -0.374636  0.461263  0.210254  0.006523 -0.203209 -0.607033   \n",
       "SO2      0.235444  0.387788 -0.193429 -0.422144 -0.278407 -0.223017 -0.365280   \n",
       "O3       0.149003  0.336539  0.659386 -0.250044  0.070888 -0.218104  0.448666   \n",
       "Benzene  0.359671 -0.207187 -0.068059 -0.102218  0.188172 -0.207380 -0.020012   \n",
       "Toluene  0.200369 -0.418481 -0.328616 -0.359874  0.447087 -0.125609  0.280292   \n",
       "Xylene   0.118706 -0.530527  0.109886 -0.174729 -0.735916  0.111472  0.302050   \n",
       "\n",
       "              PC8       PC9      PC10      PC11      PC12  \n",
       "PM2.5    0.275665  0.086309 -0.123236 -0.164356  0.738761  \n",
       "PM10     0.469464 -0.192561 -0.218866  0.015977 -0.606809  \n",
       "NO       0.198196  0.126583  0.155804  0.736009  0.092056  \n",
       "NO2     -0.052348 -0.576914  0.421731 -0.385366  0.058499  \n",
       "NOx      0.218380  0.227118 -0.446437 -0.302527 -0.044863  \n",
       "NH3     -0.566976  0.115428 -0.193869  0.039794 -0.127519  \n",
       "CO      -0.152714 -0.298226  0.032584  0.170692 -0.013601  \n",
       "SO2     -0.437689  0.135554 -0.322230 -0.063257 -0.010476  \n",
       "O3      -0.101397 -0.002582  0.103173  0.293715  0.078303  \n",
       "Benzene -0.090417  0.531238  0.589204 -0.224580 -0.214074  \n",
       "Toluene -0.240713 -0.380616 -0.167439  0.136332  0.059719  \n",
       "Xylene  -0.033851  0.085499 -0.084569 -0.031317  0.004862  "
      ]
     },
     "execution_count": 24,
     "metadata": {},
     "output_type": "execute_result"
    }
   ],
   "source": [
    "df_extracted_loadings"
   ]
  },
  {
   "cell_type": "code",
   "execution_count": 25,
   "metadata": {},
   "outputs": [
    {
     "data": {
      "image/png": "[encoded data removed]",
      "text/plain": [
       "<Figure size 576x360 with 1 Axes>"
      ]
     },
     "metadata": {
      "needs_background": "light"
     },
     "output_type": "display_data"
    }
   ],
   "source": [
    "plt.figure(figsize=(8,5))\n",
    "sns.lineplot(y=pca.explained_variance_ratio_,x= range(1,13),marker='o')\n",
    "plt.grid()"
   ]
  },
  {
   "cell_type": "code",
   "execution_count": 26,
   "metadata": {},
   "outputs": [
    {
     "data": {
      "text/plain": [
       "array([0.47594546, 0.62047094, 0.71605562, 0.79556201, 0.84882219,\n",
       "       0.88796786, 0.91837228, 0.94726362, 0.96314645, 0.97720941,\n",
       "       0.99007168, 1.        ])"
      ]
     },
     "execution_count": 26,
     "metadata": {},
     "output_type": "execute_result"
    }
   ],
   "source": [
    "np.cumsum(pca.explained_variance_ratio_)"
   ]
  },
  {
   "cell_type": "code",
   "execution_count": 27,
   "metadata": {},
   "outputs": [
    {
     "data": {
      "text/html": [
       "<div>\n",
       "<style scoped>\n",
       "    .dataframe tbody tr th:only-of-type {\n",
       "        vertical-align: middle;\n",
       "    }\n",
       "\n",
       "    .dataframe tbody tr th {\n",
       "        vertical-align: top;\n",
       "    }\n",
       "\n",
       "    .dataframe thead th {\n",
       "        text-align: right;\n",
       "    }\n",
       "</style>\n",
       "<table border=\"1\" class=\"dataframe\">\n",
       "  <thead>\n",
       "    <tr style=\"text-align: right;\">\n",
       "      <th></th>\n",
       "      <th>PC1</th>\n",
       "      <th>PC2</th>\n",
       "      <th>PC3</th>\n",
       "      <th>PC4</th>\n",
       "      <th>PC5</th>\n",
       "    </tr>\n",
       "  </thead>\n",
       "  <tbody>\n",
       "    <tr>\n",
       "      <th>PM2.5</th>\n",
       "      <td>0.367580</td>\n",
       "      <td>0.017881</td>\n",
       "      <td>-0.102442</td>\n",
       "      <td>0.251761</td>\n",
       "      <td>-0.029514</td>\n",
       "    </tr>\n",
       "    <tr>\n",
       "      <th>PM10</th>\n",
       "      <td>0.358749</td>\n",
       "      <td>0.121808</td>\n",
       "      <td>-0.108297</td>\n",
       "      <td>0.141722</td>\n",
       "      <td>-0.105872</td>\n",
       "    </tr>\n",
       "    <tr>\n",
       "      <th>NO</th>\n",
       "      <td>0.358690</td>\n",
       "      <td>0.079206</td>\n",
       "      <td>-0.238777</td>\n",
       "      <td>-0.049981</td>\n",
       "      <td>-0.066645</td>\n",
       "    </tr>\n",
       "    <tr>\n",
       "      <th>NO2</th>\n",
       "      <td>0.348564</td>\n",
       "      <td>0.255024</td>\n",
       "      <td>-0.026801</td>\n",
       "      <td>-0.058010</td>\n",
       "      <td>-0.152321</td>\n",
       "    </tr>\n",
       "    <tr>\n",
       "      <th>NOx</th>\n",
       "      <td>0.316615</td>\n",
       "      <td>-0.071851</td>\n",
       "      <td>0.329494</td>\n",
       "      <td>-0.196147</td>\n",
       "      <td>0.315614</td>\n",
       "    </tr>\n",
       "    <tr>\n",
       "      <th>NH3</th>\n",
       "      <td>0.272649</td>\n",
       "      <td>0.069764</td>\n",
       "      <td>-0.042596</td>\n",
       "      <td>0.645578</td>\n",
       "      <td>0.034921</td>\n",
       "    </tr>\n",
       "    <tr>\n",
       "      <th>CO</th>\n",
       "      <td>0.224074</td>\n",
       "      <td>-0.374636</td>\n",
       "      <td>0.461263</td>\n",
       "      <td>0.210254</td>\n",
       "      <td>0.006523</td>\n",
       "    </tr>\n",
       "    <tr>\n",
       "      <th>SO2</th>\n",
       "      <td>0.235444</td>\n",
       "      <td>0.387788</td>\n",
       "      <td>-0.193429</td>\n",
       "      <td>-0.422144</td>\n",
       "      <td>-0.278407</td>\n",
       "    </tr>\n",
       "    <tr>\n",
       "      <th>O3</th>\n",
       "      <td>0.149003</td>\n",
       "      <td>0.336539</td>\n",
       "      <td>0.659386</td>\n",
       "      <td>-0.250044</td>\n",
       "      <td>0.070888</td>\n",
       "    </tr>\n",
       "    <tr>\n",
       "      <th>Benzene</th>\n",
       "      <td>0.359671</td>\n",
       "      <td>-0.207187</td>\n",
       "      <td>-0.068059</td>\n",
       "      <td>-0.102218</td>\n",
       "      <td>0.188172</td>\n",
       "    </tr>\n",
       "    <tr>\n",
       "      <th>Toluene</th>\n",
       "      <td>0.200369</td>\n",
       "      <td>-0.418481</td>\n",
       "      <td>-0.328616</td>\n",
       "      <td>-0.359874</td>\n",
       "      <td>0.447087</td>\n",
       "    </tr>\n",
       "    <tr>\n",
       "      <th>Xylene</th>\n",
       "      <td>0.118706</td>\n",
       "      <td>-0.530527</td>\n",
       "      <td>0.109886</td>\n",
       "      <td>-0.174729</td>\n",
       "      <td>-0.735916</td>\n",
       "    </tr>\n",
       "  </tbody>\n",
       "</table>\n",
       "</div>"
      ],
      "text/plain": [
       "              PC1       PC2       PC3       PC4       PC5\n",
       "PM2.5    0.367580  0.017881 -0.102442  0.251761 -0.029514\n",
       "PM10     0.358749  0.121808 -0.108297  0.141722 -0.105872\n",
       "NO       0.358690  0.079206 -0.238777 -0.049981 -0.066645\n",
       "NO2      0.348564  0.255024 -0.026801 -0.058010 -0.152321\n",
       "NOx      0.316615 -0.071851  0.329494 -0.196147  0.315614\n",
       "NH3      0.272649  0.069764 -0.042596  0.645578  0.034921\n",
       "CO       0.224074 -0.374636  0.461263  0.210254  0.006523\n",
       "SO2      0.235444  0.387788 -0.193429 -0.422144 -0.278407\n",
       "O3       0.149003  0.336539  0.659386 -0.250044  0.070888\n",
       "Benzene  0.359671 -0.207187 -0.068059 -0.102218  0.188172\n",
       "Toluene  0.200369 -0.418481 -0.328616 -0.359874  0.447087\n",
       "Xylene   0.118706 -0.530527  0.109886 -0.174729 -0.735916"
      ]
     },
     "execution_count": 27,
     "metadata": {},
     "output_type": "execute_result"
    }
   ],
   "source": [
    "df_selected = df_extracted_loadings[['PC1','PC2','PC3','PC4','PC5']]\n",
    "df_selected"
   ]
  },
  {
   "cell_type": "code",
   "execution_count": 28,
   "metadata": {},
   "outputs": [],
   "source": [
    "pca = PCA(n_components= 5, random_state=123)\n",
    "pca_final = pca.fit_transform(df_pca_scaled)"
   ]
  },
  {
   "cell_type": "code",
   "execution_count": 29,
   "metadata": {},
   "outputs": [
    {
     "data": {
      "text/plain": [
       "array([[-2.66533352, -0.91617956, -0.79021233, -0.2455179 ,  0.36723852],\n",
       "       [-3.15643913, -0.41145617, -0.38495342, -0.15069745,  0.39861261],\n",
       "       [-2.35484127, -1.34779854, -0.88137821, -0.48326526, -0.33839253],\n",
       "       ...,\n",
       "       [-0.44278896, -3.04827969,  0.85077063,  2.76063513, -0.76167397],\n",
       "       [ 1.77853321, -3.40818408,  0.56303903,  0.28977054, -0.13105004],\n",
       "       [ 3.87623969, -2.8650807 ,  0.44676308,  0.52568745, -0.17617492]])"
      ]
     },
     "execution_count": 29,
     "metadata": {},
     "output_type": "execute_result"
    }
   ],
   "source": [
    "pca_final"
   ]
  },
  {
   "cell_type": "code",
   "execution_count": 30,
   "metadata": {},
   "outputs": [
    {
     "data": {
      "text/html": [
       "<div>\n",
       "<style scoped>\n",
       "    .dataframe tbody tr th:only-of-type {\n",
       "        vertical-align: middle;\n",
       "    }\n",
       "\n",
       "    .dataframe tbody tr th {\n",
       "        vertical-align: top;\n",
       "    }\n",
       "\n",
       "    .dataframe thead th {\n",
       "        text-align: right;\n",
       "    }\n",
       "</style>\n",
       "<table border=\"1\" class=\"dataframe\">\n",
       "  <thead>\n",
       "    <tr style=\"text-align: right;\">\n",
       "      <th></th>\n",
       "      <th>PC1</th>\n",
       "      <th>PC2</th>\n",
       "      <th>PC3</th>\n",
       "      <th>PC4</th>\n",
       "      <th>PC5</th>\n",
       "    </tr>\n",
       "  </thead>\n",
       "  <tbody>\n",
       "    <tr>\n",
       "      <th>0</th>\n",
       "      <td>-2.665334</td>\n",
       "      <td>-0.916180</td>\n",
       "      <td>-0.790212</td>\n",
       "      <td>-0.245518</td>\n",
       "      <td>0.367239</td>\n",
       "    </tr>\n",
       "    <tr>\n",
       "      <th>1</th>\n",
       "      <td>-3.156439</td>\n",
       "      <td>-0.411456</td>\n",
       "      <td>-0.384953</td>\n",
       "      <td>-0.150697</td>\n",
       "      <td>0.398613</td>\n",
       "    </tr>\n",
       "    <tr>\n",
       "      <th>2</th>\n",
       "      <td>-2.354841</td>\n",
       "      <td>-1.347799</td>\n",
       "      <td>-0.881378</td>\n",
       "      <td>-0.483265</td>\n",
       "      <td>-0.338393</td>\n",
       "    </tr>\n",
       "    <tr>\n",
       "      <th>3</th>\n",
       "      <td>-1.829266</td>\n",
       "      <td>-1.964523</td>\n",
       "      <td>-1.144289</td>\n",
       "      <td>-0.255720</td>\n",
       "      <td>-1.167517</td>\n",
       "    </tr>\n",
       "    <tr>\n",
       "      <th>4</th>\n",
       "      <td>-2.781773</td>\n",
       "      <td>-0.676409</td>\n",
       "      <td>-1.105102</td>\n",
       "      <td>0.156680</td>\n",
       "      <td>0.541447</td>\n",
       "    </tr>\n",
       "    <tr>\n",
       "      <th>5</th>\n",
       "      <td>-2.552951</td>\n",
       "      <td>-1.016836</td>\n",
       "      <td>-0.896148</td>\n",
       "      <td>-0.122146</td>\n",
       "      <td>0.308240</td>\n",
       "    </tr>\n",
       "    <tr>\n",
       "      <th>6</th>\n",
       "      <td>-2.974647</td>\n",
       "      <td>-0.688794</td>\n",
       "      <td>-0.713432</td>\n",
       "      <td>-0.076641</td>\n",
       "      <td>0.467709</td>\n",
       "    </tr>\n",
       "    <tr>\n",
       "      <th>7</th>\n",
       "      <td>-3.461293</td>\n",
       "      <td>-0.243401</td>\n",
       "      <td>-0.666444</td>\n",
       "      <td>0.260655</td>\n",
       "      <td>0.516457</td>\n",
       "    </tr>\n",
       "    <tr>\n",
       "      <th>8</th>\n",
       "      <td>-3.394853</td>\n",
       "      <td>-0.254105</td>\n",
       "      <td>-0.564833</td>\n",
       "      <td>0.252188</td>\n",
       "      <td>0.474779</td>\n",
       "    </tr>\n",
       "    <tr>\n",
       "      <th>9</th>\n",
       "      <td>-2.949465</td>\n",
       "      <td>-0.223915</td>\n",
       "      <td>-0.256325</td>\n",
       "      <td>-0.014562</td>\n",
       "      <td>0.662630</td>\n",
       "    </tr>\n",
       "  </tbody>\n",
       "</table>\n",
       "</div>"
      ],
      "text/plain": [
       "        PC1       PC2       PC3       PC4       PC5\n",
       "0 -2.665334 -0.916180 -0.790212 -0.245518  0.367239\n",
       "1 -3.156439 -0.411456 -0.384953 -0.150697  0.398613\n",
       "2 -2.354841 -1.347799 -0.881378 -0.483265 -0.338393\n",
       "3 -1.829266 -1.964523 -1.144289 -0.255720 -1.167517\n",
       "4 -2.781773 -0.676409 -1.105102  0.156680  0.541447\n",
       "5 -2.552951 -1.016836 -0.896148 -0.122146  0.308240\n",
       "6 -2.974647 -0.688794 -0.713432 -0.076641  0.467709\n",
       "7 -3.461293 -0.243401 -0.666444  0.260655  0.516457\n",
       "8 -3.394853 -0.254105 -0.564833  0.252188  0.474779\n",
       "9 -2.949465 -0.223915 -0.256325 -0.014562  0.662630"
      ]
     },
     "execution_count": 30,
     "metadata": {},
     "output_type": "execute_result"
    }
   ],
   "source": [
    "final_df = pd.DataFrame(pca_final,columns = df_selected.columns)\n",
    "final_df.head(10)"
   ]
  },
  {
   "cell_type": "code",
   "execution_count": 31,
   "metadata": {},
   "outputs": [
    {
     "data": {
      "image/png": "[encoded data removed]",
      "text/plain": [
       "<Figure size 720x576 with 2 Axes>"
      ]
     },
     "metadata": {
      "needs_background": "light"
     },
     "output_type": "display_data"
    }
   ],
   "source": [
    "plt.figure(figsize=(10,8))\n",
    "sns.heatmap(final_df.corr(),annot=True, fmt='.2f');"
   ]
  }
 ],
 "metadata": {
  "kernelspec": {
   "display_name": "Python 3",
   "language": "python",
   "name": "python3"
  },
  "language_info": {
   "codemirror_mode": {
    "name": "ipython",
    "version": 3
   },
   "file_extension": ".py",
   "mimetype": "text/x-python",
   "name": "python",
   "nbconvert_exporter": "python",
   "pygments_lexer": "ipython3",
   "version": "3.7.1"
  }
 },
 "nbformat": 4,
 "nbformat_minor": 2
}
